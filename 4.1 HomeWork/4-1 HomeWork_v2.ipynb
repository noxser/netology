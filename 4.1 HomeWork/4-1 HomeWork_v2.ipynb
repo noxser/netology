{
 "cells": [
  {
   "cell_type": "code",
   "execution_count": 1,
   "metadata": {
    "collapsed": true
   },
   "outputs": [],
   "source": [
    "import pandas as pd\n",
    "import numpy as np"
   ]
  },
  {
   "cell_type": "code",
   "execution_count": 2,
   "metadata": {
    "collapsed": true
   },
   "outputs": [],
   "source": [
    "DATA_PATH = '/Users/Noxser/_Anaconda_exersize/4-1/names/'"
   ]
  },
  {
   "cell_type": "code",
   "execution_count": null,
   "metadata": {
    "collapsed": false
   },
   "outputs": [
    {
     "name": "stdout",
     "output_type": "stream",
     "text": [
      "['John', 'William', 'Mary']\n",
      "['James', 'John', 'Robert']\n"
     ]
    }
   ],
   "source": [
    "List1 = [1880]\n",
    "List2 = [1900, 1950, 2000]\n",
    "\n",
    "def count_top3(List):\n",
    "    names_iii = []\n",
    "    for i in List:\n",
    "        i = pd.read_csv(('{}yob{}.txt'.format(DATA_PATH,str(i))), names=['Name','Gender','Count'])\n",
    "        names_iii.append(i)\n",
    "    names_all = pd.concat(names_iii)\n",
    "    m = names_all.groupby('Name').sum().sort_values(by='Count', ascending=False).head(3)\n",
    "    return print([nam for nam in m.index.get_level_values(0)])\n",
    "    \n",
    "count_top3(List1)\n",
    "count_top3(List2)"
   ]
  },
  {
   "cell_type": "code",
   "execution_count": 4,
   "metadata": {
    "collapsed": false
   },
   "outputs": [
    {
     "data": {
      "text/plain": [
       "{'F': [299810, 1713259, 1814922], 'M': [150486, 1790871, 1962744]}"
      ]
     },
     "execution_count": 4,
     "metadata": {},
     "output_type": "execute_result"
    }
   ],
   "source": [
    "List1 = [1880]\n",
    "List2 = [1900, 1950, 2000]\n",
    "\n",
    "def count_dynamics(List):\n",
    "    count_dynamics_dict = {'M':[],'F':[]}\n",
    "    names_iii = []\n",
    "    for i in List:\n",
    "        i = pd.read_csv(('{}yob{}.txt'.format(DATA_PATH,str(i))), names=['Name','Gender','Count'])\n",
    "        count_dynamics_dict['F'].append(i[i.Gender=='F'].Count.sum()) \n",
    "        count_dynamics_dict['M'].append(i[i.Gender=='M'].Count.sum())  \n",
    "    return  count_dynamics_dict\n",
    "\n",
    "count_dynamics(List2)"
   ]
  }
 ],
 "metadata": {
  "kernelspec": {
   "display_name": "Python 3",
   "language": "python",
   "name": "python3"
  },
  "language_info": {
   "codemirror_mode": {
    "name": "ipython",
    "version": 3
   },
   "file_extension": ".py",
   "mimetype": "text/x-python",
   "name": "python",
   "nbconvert_exporter": "python",
   "pygments_lexer": "ipython3",
   "version": "3.6.0"
  }
 },
 "nbformat": 4,
 "nbformat_minor": 2
}
